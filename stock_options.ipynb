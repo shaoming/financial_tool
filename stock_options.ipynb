{
  "cells": [
    {
      "cell_type": "markdown",
      "metadata": {
        "id": "view-in-github",
        "colab_type": "text"
      },
      "source": [
        "<a href=\"https://colab.research.google.com/github/shaoming/financial_tool/blob/master/stock_options.ipynb\" target=\"_parent\"><img src=\"https://colab.research.google.com/assets/colab-badge.svg\" alt=\"Open In Colab\"/></a>"
      ]
    },
    {
      "cell_type": "markdown",
      "metadata": {
        "id": "M8MzuUEj5BT2"
      },
      "source": [
        "track options to predict stock price"
      ]
    },
    {
      "cell_type": "code",
      "execution_count": null,
      "metadata": {
        "id": "xT1ew3Xv49-T"
      },
      "outputs": [],
      "source": [
        "!pip install yfinance\n",
        "!pip install yahooquery\n",
        "!pip install swifter\n",
        "!pip install pandas"
      ]
    },
    {
      "cell_type": "code",
      "execution_count": 1,
      "metadata": {
        "id": "6bqAj_e3JCEv"
      },
      "outputs": [],
      "source": []
    },
    {
      "cell_type": "code",
      "execution_count": 2,
      "metadata": {
        "id": "ExUWispnq9Lk"
      },
      "outputs": [],
      "source": [
        "from google.auth import default\n",
        "import gspread\n",
        "creds, _ = default()\n",
        "gc = gspread.authorize(creds)\n",
        "\n",
        "import yfinance as yf\n",
        "from yahooquery import Ticker\n",
        "from google.colab import data_table\n",
        "from IPython.display import display, HTML"
      ]
    },
    {
      "cell_type": "code",
      "execution_count": 2,
      "metadata": {
        "id": "vv1sq8HushT1"
      },
      "outputs": [],
      "source": []
    },
    {
      "cell_type": "markdown",
      "metadata": {
        "id": "pRZ35Uqk2YzM"
      },
      "source": []
    },
    {
      "cell_type": "code",
      "execution_count": 3,
      "metadata": {
        "id": "SGlZovd0mche"
      },
      "outputs": [],
      "source": [
        "def getTopOpenInterest(options_chain):\n",
        "  options_chain.reset_index()\n",
        "  return options_chain.sort_values('volume', ascending=False).nlargest(20, 'openInterest').sort_values('expiration', ascending=True)"
      ]
    },
    {
      "cell_type": "code",
      "execution_count": 4,
      "metadata": {
        "id": "jV7aZ8SMI_M3"
      },
      "outputs": [],
      "source": [
        "def getDerivedOfOption(df):\n",
        "  result = df\n",
        "  option_group = result.sort_values(['strike','expiration','optionType'],ascending=True)\n",
        "  option_group[\"price\"] = option_group[\"bid\"] \n",
        "  option_group[\"previous_strike\"] = option_group.groupby(['expiration','optionType'])['strike'].shift()\n",
        "  option_group[\"previous_lastPrice\"] = option_group.groupby(['expiration','optionType'])['price'].shift()\n",
        "  option_group = option_group.dropna()\n",
        "  option_group = option_group.reset_index()\n",
        "\n",
        "  option_group = option_group.loc[(option_group['symbol'].shift() == option_group['symbol']) & (option_group['expiration'].shift() == option_group['expiration']) & (option_group['optionType'].shift() == option_group['optionType'])]\n",
        "  option_group[\"previous_strike\"] = option_group[\"strike\"] - option_group[\"previous_strike\"]#option_group[\"previous_close\"]\n",
        "  option_group[\"previous_lastPrice\"] = option_group[\"price\"] - option_group[\"previous_lastPrice\"]\n",
        "  option_group[\"DerivedProb\"] = option_group[\"previous_lastPrice\"] / option_group[\"previous_strike\"]\n",
        "  option_group = option_group.sort_values(['strike','expiration','optionType'],ascending=False)\n",
        "  option_group = option_group.loc[(option_group[\"DerivedProb\"] > 0.1) | (option_group[\"DerivedProb\"] < -0.1)]\n",
        "  DerivedProb = option_group.pop('DerivedProb')\n",
        "  option_group.insert(1, 'DerivedProb', DerivedProb)\n",
        "\n",
        "  return option_group"
      ]
    },
    {
      "cell_type": "code",
      "execution_count": 5,
      "metadata": {
        "id": "L9RZ2Vs83Tkd"
      },
      "outputs": [],
      "source": [
        "def getStddev(etf):\n",
        "  import numpy as np\n",
        "  Data = Ticker(etf).history(period='5mo', interval='5d')\n",
        "  return np.std(Data[\"close\"].tolist())\n",
        "\n",
        "\n"
      ]
    },
    {
      "cell_type": "code",
      "source": [
        "from scipy.stats import norm\n",
        "norm.expect(lambda x: x-65 if x>65 else 0, loc=90, scale=1, lb=0,ub=100, conditional=True)"
      ],
      "metadata": {
        "id": "O90-Vq3TLwug"
      },
      "execution_count": null,
      "outputs": []
    },
    {
      "cell_type": "code",
      "execution_count": 17,
      "metadata": {
        "id": "pxN4Rxmw2bCo"
      },
      "outputs": [],
      "source": [
        "\n",
        "def getMeanValue(stddev, strike_price, option_value, optionType, minValue, maxValue):\n",
        "  from scipy.stats import norm\n",
        "  import numpy as np\n",
        "  target = np.nan\n",
        "  distance = np.finfo(np.float32).max\n",
        "  if optionType ==\"calls\":\n",
        "         for mean_value in np.arange(maxValue, minValue, -1):\n",
        "           expect_value = norm.expect(lambda x: x-strike_price if x> strike_price else 0,loc=mean_value, scale=stddev, lb=minValue,ub=maxValue)\n",
        "           if abs(option_value - expect_value) < distance:\n",
        "             distance = abs(option_value - expect_value)\n",
        "             target = mean_value  \n",
        "  else:\n",
        "         for mean_value in np.arange(minValue, maxValue, 1):    \n",
        "            expect_value = norm.expect(lambda x: strike_price - x if x< strike_price else 0,loc=mean_value, scale=stddev, lb=minValue,ub=maxValue)\n",
        "            if abs(option_value - expect_value) < distance:\n",
        "              distance = abs(option_value - expect_value)\n",
        "              target = mean_value\n",
        "  return target\n",
        "\n",
        "def getExpectedValues(etf, df, minValue, maxValue):\n",
        "  import swifter\n",
        "  \n",
        "  stddev = getStddev(etf)\n",
        "  data = df.reset_index()\n",
        "\n",
        "  data.loc[:,'expected_mean'] = data.swifter.apply(lambda x:getMeanValue(stddev, x[\"strike\"],x[\"lastPrice\"],x[\"optionType\"], minValue, maxValue), axis=1)\n",
        "  expected_mean = data.pop('expected_mean')\n",
        "  data.insert(1, 'expected_mean', expected_mean)\n",
        "  return data\n",
        "\n",
        "def getMeanExpectedValues(result, etf_name):\n",
        "  result = result.reset_index()\n",
        "  result = result.dropna()\n",
        "  result = result[['expiration','optionType', 'inTheMoney','volume','expected_mean']]\n",
        "  result.loc[:,'expected_mean_volume'] = result['volume']*result['expected_mean']\n",
        "\n",
        "  result=result.groupby(['expiration','optionType', 'inTheMoney']).sum()\n",
        "  result.loc[:,'avg_expected_mean'] = result['expected_mean_volume'] / result['volume']\n",
        "  result = result.reset_index()\n",
        "  #print(result)\n",
        "  import matplotlib.pyplot as plt\n",
        "  from datetime import datetime\n",
        "  currentDateAndTime = datetime.now() \n",
        "  plt.rcParams['figure.figsize'] = [10, 4]\n",
        "  plt.plot('expiration', 'avg_expected_mean', data=result.loc[(result['optionType']==\"calls\")&(result['inTheMoney']==True)], marker='', color='blue', linewidth=2, linestyle='dashed', label=\"Call&InMoney\")\n",
        "  plt.plot('expiration', 'avg_expected_mean', data=result.loc[(result['optionType']==\"calls\")&(result['inTheMoney']==False)], marker='', color='green', linewidth=2, linestyle='dashed', label=\"Call&NotInMoney\")\n",
        "  plt.plot('expiration', 'avg_expected_mean', data=result.loc[(result['optionType']==\"puts\")&(result['inTheMoney']==True)], marker='', color='orange', linewidth=2, linestyle='dashed', label=\"Put&InMoney\")\n",
        "  plt.plot('expiration', 'avg_expected_mean', data=result.loc[(result['optionType']==\"puts\")&(result['inTheMoney']==False)], marker='', color='red', linewidth=2, linestyle='dashed', label=\"Put&NotInMoney\")\n",
        "  plt.title(\"option expectation: --\"+etf_name+\"-- \"+currentDateAndTime.strftime(\"%a, %d %b %Y %I:%M:%S\"))\n",
        "  plt.legend()\n",
        "  plt.show()"
      ]
    },
    {
      "cell_type": "code",
      "execution_count": 8,
      "metadata": {
        "id": "0gRcvEr9mXxy"
      },
      "outputs": [],
      "source": [
        "def getMinMaxValue(df):\n",
        "  import pandas as np\n",
        "  maxValue = df[\"strike\"].max()\n",
        "  minValue = df[\"strike\"].min()\n",
        "  return minValue, maxValue\n",
        "\n",
        "def filterData(df):\n",
        "  import pandas as pd\n",
        "  data = df.loc[(df['bid']> 0.05)&(df['openInterest']>100)] ## remove trivial number\n",
        "  data[\"lastTradeDate\"] = pd.to_datetime(data['lastTradeDate'], format='%Y-%m-%d %H:%M:%S')\n",
        "  #df = df.loc[(df[\"lastTradeDate\"] > pd.to_datetime(yesterday))]\n",
        "  return data"
      ]
    },
    {
      "cell_type": "code",
      "execution_count": null,
      "metadata": {
        "id": "QtKHaixRmfRM"
      },
      "outputs": [],
      "source": [
        "#ETF_list = ['spy','qqq','xlv','xlc','xli','xlb','xlk','xlu','xlf','iwm','xbi','ibb']\n",
        "ETF_list = ['xbi']\n",
        "from datetime import datetime\n",
        "from datetime import date, timedelta\n",
        "\n",
        "yesterday = date.today() - timedelta(days=3)\n",
        "import pandas as pd\n",
        "for etf in ETF_list: \n",
        "  df = Ticker(etf).option_chain\n",
        "  minValue, maxValue = getMinMaxValue(df)\n",
        "  previous_close = Ticker(etf).summary_detail[etf]['previousClose']\n",
        "  df.loc[:,'previous_close'] = previous_close\n",
        "  df = filterData(df)\n",
        "  df = df.reset_index()\n",
        "  #df = df.loc[(df['optionType']=='calls') & (df['inTheMoney'] == True)]\n",
        "  #topOpenInterest = getTopOpenInterest(df)\n",
        "  \n",
        "  meanValues = getExpectedValues(etf, df, minValue, maxValue)\n",
        "  getMeanExpectedValues(meanValues, etf)\n",
        "  \n",
        "  #display(HTML(meanValues.to_html()))\n"
      ]
    }
  ],
  "metadata": {
    "colab": {
      "provenance": [],
      "authorship_tag": "ABX9TyOAp7aRIQLuip6q97kk/mo2",
      "include_colab_link": true
    },
    "gpuClass": "standard",
    "kernelspec": {
      "display_name": "Python 3",
      "name": "python3"
    },
    "language_info": {
      "name": "python"
    }
  },
  "nbformat": 4,
  "nbformat_minor": 0
}